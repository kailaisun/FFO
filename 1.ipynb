{
 "cells": [
  {
   "cell_type": "code",
   "execution_count": 1,
   "id": "b0c55fa2",
   "metadata": {},
   "outputs": [],
   "source": [
    "import re,os\n",
    "import numpy as np\n",
    "from eval import eval\n",
    "from utils.evaluate import evaluate\n",
    "from utils.data_load import load_data,filter,read_area_num,plt_sq,read_num,diff\n"
   ]
  },
  {
   "cell_type": "code",
   "execution_count": 2,
   "id": "9fba92c2",
   "metadata": {},
   "outputs": [],
   "source": [
    "class data_sq:\n",
    "    def __init__(self):\n",
    "        self.sq_num = None\n",
    "        self.name = None\n",
    "data = load_data()\n",
    "data_track = filter(data[0])\n",
    "data_top =data[1]\n",
    "area_num = []\n",
    "area_1 = [(1059,222),(1410,591)]\n",
    "area_3 = [(1600,135),(1860,597)]\n",
    "area_3 = [(1600,145),(1837,511)]\n",
    "#area_3 = [(1600,83),(1838,456)]\n",
    "area = area_1\n",
    "with open('result/detect/1.txt','r') as f:\n",
    "    lines = f.read()\n",
    "f.close()\n",
    "a=lines.split('frame')\n",
    "a=a[1:]\n",
    "area_num.append(read_area_num(a,area))\n",
    "with open('result/detect/2.txt','r') as f:\n",
    "    lines = f.read()\n",
    "f.close()\n",
    "a=lines.split('frame')\n",
    "a=a[1:]\n",
    "area_num.append(read_area_num(a,area))\n",
    "area = area_3\n",
    "with open('result/detect/3.txt','r') as f:\n",
    "    lines = f.read()\n",
    "f.close()\n",
    "a=lines.split('frame')\n",
    "a=a[1:]\n",
    "area_num.append(read_area_num(a,area))"
   ]
  },
  {
   "cell_type": "code",
   "execution_count": 3,
   "id": "3e0d38db",
   "metadata": {},
   "outputs": [],
   "source": [
    "for i in range(len(area_num)):\n",
    "\n",
    "    data_track[i+1].area_num=area_num[i]"
   ]
  },
  {
   "cell_type": "code",
   "execution_count": 11,
   "id": "c19cd5db",
   "metadata": {},
   "outputs": [],
   "source": [
    "\n",
    "def joint_tr(data_track,data_top):\n",
    "    frame_track = data_track.frame.copy()\n",
    "    frame_top = data_top.frame.copy()\n",
    "    area_num = data_track.area_num.copy()\n",
    "    num_track = data_track.num.copy()\n",
    "    num_top = data_top.num.copy()\n",
    "    joint_frame = []\n",
    "    joint_num = []\n",
    "    no_confirm=[]\n",
    "    for i in frame_track:\n",
    "        if area_num[i-1]==0:\n",
    "            no_confirm.append(i)\n",
    "\n",
    "\n",
    "    for i in range(len(frame_top)):\n",
    "        frame = [i for i in [frame_top[i], frame_top[i] - 1, frame_top[i] + 1] if i in frame_track]\n",
    "\n",
    "        if len(frame)>0:\n",
    "            index_ = frame_track.index(frame[0])\n",
    " \n",
    "\n",
    "            if area_num[frame[0]-1]<3:\n",
    "\n",
    "\n",
    "                    \n",
    "                if abs(num_top[i])>abs(num_track[index_]) & (num_top[i]*num_track[index_]>0):\n",
    "\n",
    "                    if (frame[0]-frame_track[index_-1]<4):\n",
    "\n",
    "\n",
    "                        num_track[index_]=num_top[i]-num_track[index_]\n",
    "\n",
    "                    else:\n",
    "\n",
    "                        num_track[index_]=num_top[i]\n",
    "                elif num_top[i]*num_track[index_]<0:\n",
    "                    \n",
    "\n",
    "                    if area_num[frame[0]-2]-area_num[frame[0]-1]>0:\n",
    "                        num_track[index_] = max(num_track[index_],num_top[i])\n",
    "                        print(num_track[index_])\n",
    "                    else:\n",
    "                        num_track[index_] = min(num_track[index_],num_top[i])\n",
    "                        print(num_track[index_])\n",
    "                        \n",
    " \n",
    "                joint_frame.append(frame[0])\n",
    "                joint_num.append(num_track[index_])\n",
    "\n",
    "                del frame_track[index_]\n",
    "                del num_track[index_]\n",
    "\n",
    "        elif area_num[frame_top[i]-1]>0:\n",
    "            \n",
    "\n",
    "\n",
    "            joint_frame.append(frame_top[i])\n",
    "            joint_num.append(num_top[i])\n",
    "        \n",
    "    for i in frame_track:\n",
    "        if area_num[i-1]<3:\n",
    "            joint_frame.append(i)\n",
    "            joint_num.append(num_track[frame_track.index(i)])\n",
    "    frame_ = np.array(joint_frame)\n",
    "    num = np.array(joint_num)\n",
    "    index = frame_.argsort()\n",
    "    frame_ = frame_[index]\n",
    "    num = num[index]\n",
    "    return frame_, num\n",
    "\n",
    "a,b = joint_tr(data_track[3],data_top[3])\n"
   ]
  },
  {
   "cell_type": "code",
   "execution_count": 5,
   "id": "a6502de3",
   "metadata": {},
   "outputs": [
    {
     "name": "stdout",
     "output_type": "stream",
     "text": [
      "视频:  1 NMAE:  0.001 score:  0.992\n",
      "视频:  1 NMAE:  0.263 score:  0.046\n",
      "视频:  2 NMAE:  0.075 score:  0.297\n",
      "视频:  2 NMAE:  0.071 score:  0.593\n",
      "视频:  3 NMAE:  0.018 score:  0.637\n",
      "视频:  3 NMAE:  0.152 score:  0.13\n"
     ]
    },
    {
     "data": {
      "text/plain": [
       "(0.152, 0.13)"
      ]
     },
     "execution_count": 5,
     "metadata": {},
     "output_type": "execute_result"
    }
   ],
   "source": [
    "stat = [0,3,3,11]\n",
    "data_pre = {}\n",
    "frame_num = [796,917,837]\n",
    "for i in data_track.keys():\n",
    "    log = []\n",
    "    dir_ = str(i)+'.txt'\n",
    "    #a = data_top[i].frame\n",
    "    #b = data_top[i].num\n",
    "    a,b = joint_tr(data_track[i],data_top[i])\n",
    "    data_pre[i]= diff()\n",
    "    data_pre[i].frame = a\n",
    "    data_pre[i].num =b\n",
    "    num = frame_num[i-1]\n",
    "    \n",
    " \n",
    "    lab = np.zeros(num)\n",
    "    \n",
    "    sta = stat[i]\n",
    "    lab[0 :a[0]] = sta\n",
    "    for i in range(len(a)-1):\n",
    "        sta+=b[i]\n",
    "        lab[a[i]-1:a[i+1]] =sta\n",
    "    lab[a[i+1] :num] = sta+b[i+1]\n",
    "    for i in range(len((lab))):\n",
    "        text = 'frame: {}, num: {}'.format(i, int(lab[i]))\n",
    "        log.append(text + '\\n')\n",
    "    with open(('result/joint_top/'+dir_), 'w+') as f:\n",
    "        f.writelines(log)\n",
    "eval('result/joint_top/1.txt','gt/1.txt')\n",
    "eval('result/track_top/1.txt','gt/1.txt')\n",
    "eval('result/joint_top/2.txt','gt/2.txt')\n",
    "eval('result/track_top/2.txt','gt/2.txt')\n",
    "eval('result/joint_top/3.txt','gt/3.txt')\n",
    "eval('result/track_top/3.txt','gt/3.txt')"
   ]
  },
  {
   "cell_type": "code",
   "execution_count": 6,
   "id": "aa61f354",
   "metadata": {},
   "outputs": [],
   "source": [
    "stat = [0,3,3,11]\n",
    "data_pre = {}\n",
    "frame_num = [796,917,837]\n",
    "for i in data_track.keys():\n",
    "    log = []\n",
    "    dir_ = str(i)+'.txt'\n",
    "    #a = data_top[i].frame\n",
    "    #b = data_top[i].num\n",
    "    a,b = joint_tr(data_track[i],data_top[i])\n",
    "    data_pre[i]= diff()\n",
    "    data_pre[i].frame = a\n",
    "    data_pre[i].num =b\n",
    "    num = frame_num[i-1]\n",
    "    \n",
    " \n",
    "    lab = np.zeros(num)\n",
    "    \n",
    "    sta = stat[i]\n",
    "    lab[0 :a[0]] = sta\n",
    "    for i in range(len(a)-1):\n",
    "        sta+=b[i]\n",
    "        lab[a[i]-1:a[i+1]] =sta\n",
    "    lab[a[i+1] :num] = sta+b[i+1]\n",
    "    for i in range(len((lab))):\n",
    "        text = 'frame: {}, num: {}'.format(i, int(lab[i]))\n",
    "        log.append(text + '\\n')\n",
    "    with open(('result/joint_top/'+dir_), 'w+') as f:\n",
    "        f.writelines(log)"
   ]
  },
  {
   "cell_type": "code",
   "execution_count": 7,
   "id": "3e7e3bb6",
   "metadata": {},
   "outputs": [
    {
     "data": {
      "image/png": "[encoded data removed]",
      "text/plain": [
       "<Figure size 432x288 with 1 Axes>"
      ]
     },
     "metadata": {
      "needs_background": "light"
     },
     "output_type": "display_data"
    }
   ],
   "source": [
    "sq_data={}\n",
    "dir_= '3.txt'\n",
    "sq_data[1] = data_sq()\n",
    "sq_data[1].sq_num = read_num(os.path.join('gt',dir_))\n",
    "sq_data[1].name = 'truth'\n",
    "sq_data[2] = data_sq()\n",
    "sq_data[2].sq_num = read_num(os.path.join('result/track_top',dir_))\n",
    "sq_data[2].name = 'track_top'\n",
    "sq_data[3] = data_sq()\n",
    "sq_data[3].sq_num = read_num(os.path.join('result/deepsort',dir_))\n",
    "sq_data[3].name = 'deepsort'\n",
    "sq_data[4] = data_sq()\n",
    "sq_data[4].sq_num = read_num(os.path.join('result/joint_top',dir_))\n",
    "sq_data[4].name = 'our'\n",
    "plt_sq(sq_data,title ='test3')"
   ]
  },
  {
   "cell_type": "code",
   "execution_count": 8,
   "id": "0f64f2fb",
   "metadata": {},
   "outputs": [
    {
     "name": "stdout",
     "output_type": "stream",
     "text": [
      "16 -1\n",
      "19 -1\n",
      "23 -1\n",
      "100 1\n",
      "109 -1\n",
      "111 1\n",
      "112 1\n",
      "113 1\n",
      "119 -1\n",
      "125 -1\n",
      "242 -1\n",
      "244 -1\n",
      "248 -1\n",
      "250 1\n",
      "251 1\n",
      "262 -1\n",
      "268 1\n",
      "273 1\n",
      "321 -1\n",
      "323 -1\n",
      "398 -2\n",
      "399 -1\n",
      "489 -1\n",
      "490 -1\n",
      "493 1\n",
      "496 2\n",
      "546 1\n",
      "548 1\n",
      "551 -1\n",
      "552 1\n",
      "572 1\n",
      "574 1\n",
      "577 1\n"
     ]
    }
   ],
   "source": [
    "lab31 = [1,16,19,22,100,109,111,112,113,118,119,242,245,248,249,251,262,268,272,322,324,396,397,398,489,490,493,494,496,546,547,553,572,574,577]\n",
    "lab32 = [11,10,9,8,9,8,9,10,11,10,9,8,7,6,7,8,7,8,9,8,7,6,5,4,3,2,3,4,5,6,7,8,9,10,11]\n",
    "a,b = joint_tr(data_track[3],data_top[3])\n",
    "for i in range(len(a)):\n",
    "    print(a[i],b[i])"
   ]
  },
  {
   "cell_type": "code",
   "execution_count": 9,
   "id": "80f60f98",
   "metadata": {},
   "outputs": [
    {
     "name": "stdout",
     "output_type": "stream",
     "text": [
      "19 -1\n",
      "20 -1\n",
      "23 -1\n",
      "100 1\n",
      "109 -1\n",
      "111 1\n",
      "115 1\n",
      "116 -1\n",
      "119 -1\n",
      "125 -1\n",
      "242 -1\n",
      "244 -1\n",
      "248 -1\n",
      "250 1\n",
      "251 1\n",
      "262 -1\n",
      "268 1\n",
      "273 1\n",
      "321 -2\n",
      "323 -1\n",
      "398 -1\n",
      "399 -1\n",
      "489 -1\n",
      "490 -1\n",
      "493 1\n",
      "496 1\n",
      "546 1\n",
      "548 1\n",
      "551 -1\n",
      "552 1\n",
      "572 1\n",
      "577 1\n",
      "16 -1\n",
      "19 -1\n",
      "22 -1\n",
      "100 1\n",
      "109 -1\n",
      "111 1\n",
      "112 1\n",
      "113 1\n",
      "242 -1\n",
      "245 -1\n",
      "251 2\n",
      "262 -1\n",
      "269 1\n",
      "273 1\n",
      "321 -1\n",
      "397 -2\n",
      "398 -1\n",
      "490 -2\n",
      "496 3\n",
      "548 2\n",
      "553 1\n",
      "572 1\n",
      "574 1\n",
      "577 1\n",
      "720 -1\n",
      "759 1\n"
     ]
    }
   ],
   "source": [
    "for i in range(len(data_track[3].frame)):\n",
    "    print(data_track[3].frame[i],data_track[3].num[i])\n",
    "for i in range(len(data_top[3].frame)):\n",
    "    print(data_top[3].frame[i],data_top[3].num[i])"
   ]
  },
  {
   "cell_type": "code",
   "execution_count": 10,
   "id": "99f6e29f",
   "metadata": {},
   "outputs": [
    {
     "data": {
      "text/plain": [
       "1"
      ]
     },
     "execution_count": 10,
     "metadata": {},
     "output_type": "execute_result"
    }
   ],
   "source": [
    "area_num[2][550]"
   ]
  },
  {
   "cell_type": "code",
   "execution_count": 11,
   "id": "b911d3c4",
   "metadata": {},
   "outputs": [],
   "source": [
    "# import cv2\n",
    "# path = \"/home/liup/Document/code/test/result/track/3.mp4\"\n",
    "# save_path = \"/home/liup/Document/code/test/result/track/31.mp4\"\n",
    "# cap = cv2.VideoCapture(path)\n",
    "# width = cap.get(cv2.CAP_PROP_FRAME_WIDTH)  # float\n",
    "# height = cap.get(cv2.CAP_PROP_FRAME_HEIGHT)  # float\n",
    "# fps = cap.get(cv2.CAP_PROP_FPS)\n",
    "# vid_writer = cv2.VideoWriter(\n",
    "#     save_path, cv2.VideoWriter_fourcc(*\"mp4v\"), fps, (int(width), int(height))\n",
    "# )\n",
    "# count = 0\n",
    "# while True:\n",
    "#     ret_val, frame = cap.read()\n",
    "#     if ret_val:\n",
    "#         count+=1\n",
    "#         if (count>1200)&(count<1300):\n",
    "#             #print(count)\n",
    "#             vid_writer.write(frame)\n",
    "#     else:\n",
    "#         break"
   ]
  },
  {
   "cell_type": "code",
   "execution_count": null,
   "id": "d9af61c1",
   "metadata": {},
   "outputs": [],
   "source": []
  }
 ],
 "metadata": {
  "kernelspec": {
   "display_name": "Python 3 (ipykernel)",
   "language": "python",
   "name": "python3"
  },
  "language_info": {
   "codemirror_mode": {
    "name": "ipython",
    "version": 3
   },
   "file_extension": ".py",
   "mimetype": "text/x-python",
   "name": "python",
   "nbconvert_exporter": "python",
   "pygments_lexer": "ipython3",
   "version": "3.8.13"
  }
 },
 "nbformat": 4,
 "nbformat_minor": 5
}
