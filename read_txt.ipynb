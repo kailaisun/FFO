{
 "cells": [
  {
   "cell_type": "code",
   "execution_count": 1,
   "id": "311fc048",
   "metadata": {},
   "outputs": [],
   "source": [
    "import numpy as np\n",
    "import re"
   ]
  },
  {
   "cell_type": "code",
   "execution_count": 2,
   "id": "f010a05c",
   "metadata": {},
   "outputs": [],
   "source": [
    "with open('result/detect/1.txt','r') as f:\n",
    "    lines = f.read()\n",
    "f.close()"
   ]
  },
  {
   "cell_type": "code",
   "execution_count": 3,
   "id": "51c838c5",
   "metadata": {},
   "outputs": [],
   "source": [
    "a=lines.split('frame')"
   ]
  },
  {
   "cell_type": "code",
   "execution_count": 4,
   "id": "762a907a",
   "metadata": {},
   "outputs": [],
   "source": [
    "a=a[1:]"
   ]
  },
  {
   "cell_type": "code",
   "execution_count": 5,
   "id": "b07555f7",
   "metadata": {},
   "outputs": [],
   "source": [
    "area_1 = [(1086,181),(1370,616)]\n",
    "area_3 = [(1557,89),(1845,624)]\n",
    "area = area_1\n",
    "bboxes = []\n",
    "for line in a:\n",
    "    bbox_line = line.split('bboxes')[-1]\n",
    "    num = re.findall(r\"\\d+\\.?\\d*\", bbox_line)\n",
    "    bbox = np.zeros((len(num)//4,4))\n",
    "    for i in range(len(num)//4):\n",
    "        num = list(map(float,num))\n",
    "        bbox[i] = num[4*i:4*i+4]\n",
    "    bboxes.append(bbox)\n",
    "from utils.box_tool import center\n",
    "from utils.count import ifin\n",
    "\n",
    "area_arr = []\n",
    "for bbox in bboxes:\n",
    "    area_num = 0\n",
    "    if len(bbox)>0:\n",
    "        conter_point = center(bbox)\n",
    "\n",
    "        for point in conter_point:\n",
    "            if ifin(point,area[0],area[1]):\n",
    "                area_num+=1\n",
    "    area_arr.append(area_num)  \n",
    "        \n",
    "    "
   ]
  },
  {
   "cell_type": "code",
   "execution_count": 71,
   "id": "e7001cbd",
   "metadata": {},
   "outputs": [
    {
     "data": {
      "text/plain": [
       "0"
      ]
     },
     "execution_count": 71,
     "metadata": {},
     "output_type": "execute_result"
    }
   ],
   "source": [
    "area_arr[5]"
   ]
  },
  {
   "cell_type": "code",
   "execution_count": 41,
   "id": "93953bea",
   "metadata": {},
   "outputs": [],
   "source": [
    "bbox_line = line.split('bboxes')[-1]"
   ]
  },
  {
   "cell_type": "code",
   "execution_count": 47,
   "id": "d191ed41",
   "metadata": {},
   "outputs": [],
   "source": [
    "num = re.findall(r\"\\d+\\.?\\d*\", bbox_line)"
   ]
  },
  {
   "cell_type": "code",
   "execution_count": 50,
   "id": "2d67bb55",
   "metadata": {},
   "outputs": [],
   "source": [
    "bbox = np.zeros((len(num)//4,4))"
   ]
  },
  {
   "cell_type": "code",
   "execution_count": 57,
   "id": "5b5984f6",
   "metadata": {},
   "outputs": [],
   "source": [
    "for i in range(len(num)//4):\n",
    "    num = list(map(float,num))\n",
    "    bbox[i] = num[4*i:4*i+4]"
   ]
  },
  {
   "cell_type": "code",
   "execution_count": 56,
   "id": "a2ecbf63",
   "metadata": {},
   "outputs": [
    {
     "ename": "ValueError",
     "evalue": "invalid literal for int() with base 10: '357.92395'",
     "output_type": "error",
     "traceback": [
      "\u001b[0;31m---------------------------------------------------------------------------\u001b[0m",
      "\u001b[0;31mValueError\u001b[0m                                Traceback (most recent call last)",
      "Input \u001b[0;32mIn [56]\u001b[0m, in \u001b[0;36m<cell line: 1>\u001b[0;34m()\u001b[0m\n\u001b[0;32m----> 1\u001b[0m \u001b[38;5;28;43mlist\u001b[39;49m\u001b[43m(\u001b[49m\u001b[38;5;28;43mmap\u001b[39;49m\u001b[43m(\u001b[49m\u001b[38;5;28;43mint\u001b[39;49m\u001b[43m,\u001b[49m\u001b[43mnum\u001b[49m\u001b[43m)\u001b[49m\u001b[43m)\u001b[49m\n",
      "\u001b[0;31mValueError\u001b[0m: invalid literal for int() with base 10: '357.92395'"
     ]
    }
   ],
   "source": [
    "list(map(int,num))"
   ]
  },
  {
   "cell_type": "code",
   "execution_count": null,
   "id": "a9140ffd",
   "metadata": {},
   "outputs": [],
   "source": []
  }
 ],
 "metadata": {
  "kernelspec": {
   "display_name": "Python 3 (ipykernel)",
   "language": "python",
   "name": "python3"
  },
  "language_info": {
   "codemirror_mode": {
    "name": "ipython",
    "version": 3
   },
   "file_extension": ".py",
   "mimetype": "text/x-python",
   "name": "python",
   "nbconvert_exporter": "python",
   "pygments_lexer": "ipython3",
   "version": "3.8.13"
  }
 },
 "nbformat": 4,
 "nbformat_minor": 5
}
